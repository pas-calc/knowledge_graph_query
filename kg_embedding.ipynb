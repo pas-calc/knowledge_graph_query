{
 "cells": [
  {
   "cell_type": "markdown",
   "id": "5cd9ac42-49da-4bab-b692-908eae72c6c1",
   "metadata": {},
   "source": [
    "# PrimeKG knowledge graph query and answer using embedding"
   ]
  },
  {
   "cell_type": "markdown",
   "id": "2094b876-3e81-4793-aac9-376dcfaae7b2",
   "metadata": {},
   "source": [
    "Query a knowledge graph for drugs/diseases using embedding"
   ]
  },
  {
   "cell_type": "markdown",
   "id": "bc4daec0-456c-44f2-af29-5a1a7cced2b3",
   "metadata": {},
   "source": [
    "**references:**\n",
    "\n",
    "\n",
    "databases:\n",
    "- PrimeKG knowledge graph: https://github.com/mims-harvard/PrimeKG\n",
    "- STaRK question/answers: https://github.com/snap-stanford/stark\n",
    "  - database explanation: https://stark.stanford.edu/dataset_prime.html\n",
    "\n",
    "modules:\n",
    "- embedding using Sentence Transformer: https://www.sbert.net/docs/quickstart.html\n",
    "- project using these databases:\n",
    "  - https://github.com/VirtualPatientEngine/AIAgents4Pharma\n",
    "  - https://virtualpatientengine.github.io/AIAgents4Pharma/notebooks/talk2knowledgegraphs/tutorial_starkqa_primekg_textual_embeddings_nomic_embed_text/\n"
   ]
  },
  {
   "cell_type": "markdown",
   "id": "50470bcc-84a1-4524-a966-0a86ea0c0063",
   "metadata": {
    "jp-MarkdownHeadingCollapsed": true
   },
   "source": [
    "## imports"
   ]
  },
  {
   "cell_type": "code",
   "execution_count": null,
   "id": "ebc9414f-17d7-4349-b6b7-51bd00128cfd",
   "metadata": {},
   "outputs": [],
   "source": [
    "import numpy as np\n",
    "import matplotlib.pyplot as plt\n",
    "import pandas as pd\n",
    "from tqdm import tqdm"
   ]
  },
  {
   "cell_type": "code",
   "execution_count": null,
   "id": "f7c3a9b6-1a34-402a-8d0e-890b4ed25c74",
   "metadata": {},
   "outputs": [],
   "source": [
    "def random_mask(n,k):\n",
    "    a = np.zeros(n, dtype=bool)\n",
    "    a[:k] = 1\n",
    "    np.random.shuffle(a)\n",
    "    return a"
   ]
  },
  {
   "cell_type": "markdown",
   "id": "c8f3c066-d7eb-4086-9840-8847239afc24",
   "metadata": {
    "jp-MarkdownHeadingCollapsed": true
   },
   "source": [
    "## load dataset"
   ]
  },
  {
   "cell_type": "code",
   "execution_count": 5,
   "id": "2d3e5536-66ab-4ae4-af00-c02c6edb1e6f",
   "metadata": {},
   "outputs": [],
   "source": [
    "primekg = pd.read_csv(\"kg.csv\", low_memory=False)"
   ]
  },
  {
   "cell_type": "code",
   "execution_count": 6,
   "id": "a8d44192-b5ed-42d6-bbe5-8715d977eaa3",
   "metadata": {},
   "outputs": [
    {
     "data": {
      "text/html": [
       "<div>\n",
       "<style scoped>\n",
       "    .dataframe tbody tr th:only-of-type {\n",
       "        vertical-align: middle;\n",
       "    }\n",
       "\n",
       "    .dataframe tbody tr th {\n",
       "        vertical-align: top;\n",
       "    }\n",
       "\n",
       "    .dataframe thead th {\n",
       "        text-align: right;\n",
       "    }\n",
       "</style>\n",
       "<table border=\"1\" class=\"dataframe\">\n",
       "  <thead>\n",
       "    <tr style=\"text-align: right;\">\n",
       "      <th></th>\n",
       "      <th>relation</th>\n",
       "      <th>display_relation</th>\n",
       "      <th>x_index</th>\n",
       "      <th>x_id</th>\n",
       "      <th>x_type</th>\n",
       "      <th>x_name</th>\n",
       "      <th>x_source</th>\n",
       "      <th>y_index</th>\n",
       "      <th>y_id</th>\n",
       "      <th>y_type</th>\n",
       "      <th>y_name</th>\n",
       "      <th>y_source</th>\n",
       "    </tr>\n",
       "  </thead>\n",
       "  <tbody>\n",
       "    <tr>\n",
       "      <th>0</th>\n",
       "      <td>protein_protein</td>\n",
       "      <td>ppi</td>\n",
       "      <td>0</td>\n",
       "      <td>9796</td>\n",
       "      <td>gene/protein</td>\n",
       "      <td>PHYHIP</td>\n",
       "      <td>NCBI</td>\n",
       "      <td>8889</td>\n",
       "      <td>56992</td>\n",
       "      <td>gene/protein</td>\n",
       "      <td>KIF15</td>\n",
       "      <td>NCBI</td>\n",
       "    </tr>\n",
       "    <tr>\n",
       "      <th>1</th>\n",
       "      <td>protein_protein</td>\n",
       "      <td>ppi</td>\n",
       "      <td>1</td>\n",
       "      <td>7918</td>\n",
       "      <td>gene/protein</td>\n",
       "      <td>GPANK1</td>\n",
       "      <td>NCBI</td>\n",
       "      <td>2798</td>\n",
       "      <td>9240</td>\n",
       "      <td>gene/protein</td>\n",
       "      <td>PNMA1</td>\n",
       "      <td>NCBI</td>\n",
       "    </tr>\n",
       "    <tr>\n",
       "      <th>2</th>\n",
       "      <td>protein_protein</td>\n",
       "      <td>ppi</td>\n",
       "      <td>2</td>\n",
       "      <td>8233</td>\n",
       "      <td>gene/protein</td>\n",
       "      <td>ZRSR2</td>\n",
       "      <td>NCBI</td>\n",
       "      <td>5646</td>\n",
       "      <td>23548</td>\n",
       "      <td>gene/protein</td>\n",
       "      <td>TTC33</td>\n",
       "      <td>NCBI</td>\n",
       "    </tr>\n",
       "    <tr>\n",
       "      <th>3</th>\n",
       "      <td>protein_protein</td>\n",
       "      <td>ppi</td>\n",
       "      <td>3</td>\n",
       "      <td>4899</td>\n",
       "      <td>gene/protein</td>\n",
       "      <td>NRF1</td>\n",
       "      <td>NCBI</td>\n",
       "      <td>11592</td>\n",
       "      <td>11253</td>\n",
       "      <td>gene/protein</td>\n",
       "      <td>MAN1B1</td>\n",
       "      <td>NCBI</td>\n",
       "    </tr>\n",
       "    <tr>\n",
       "      <th>4</th>\n",
       "      <td>protein_protein</td>\n",
       "      <td>ppi</td>\n",
       "      <td>4</td>\n",
       "      <td>5297</td>\n",
       "      <td>gene/protein</td>\n",
       "      <td>PI4KA</td>\n",
       "      <td>NCBI</td>\n",
       "      <td>2122</td>\n",
       "      <td>8601</td>\n",
       "      <td>gene/protein</td>\n",
       "      <td>RGS20</td>\n",
       "      <td>NCBI</td>\n",
       "    </tr>\n",
       "    <tr>\n",
       "      <th>...</th>\n",
       "      <td>...</td>\n",
       "      <td>...</td>\n",
       "      <td>...</td>\n",
       "      <td>...</td>\n",
       "      <td>...</td>\n",
       "      <td>...</td>\n",
       "      <td>...</td>\n",
       "      <td>...</td>\n",
       "      <td>...</td>\n",
       "      <td>...</td>\n",
       "      <td>...</td>\n",
       "      <td>...</td>\n",
       "    </tr>\n",
       "    <tr>\n",
       "      <th>8100493</th>\n",
       "      <td>anatomy_protein_absent</td>\n",
       "      <td>expression absent</td>\n",
       "      <td>66747</td>\n",
       "      <td>4720</td>\n",
       "      <td>anatomy</td>\n",
       "      <td>cerebellar vermis</td>\n",
       "      <td>UBERON</td>\n",
       "      <td>5259</td>\n",
       "      <td>140</td>\n",
       "      <td>gene/protein</td>\n",
       "      <td>ADORA3</td>\n",
       "      <td>NCBI</td>\n",
       "    </tr>\n",
       "    <tr>\n",
       "      <th>8100494</th>\n",
       "      <td>anatomy_protein_absent</td>\n",
       "      <td>expression absent</td>\n",
       "      <td>63824</td>\n",
       "      <td>1377</td>\n",
       "      <td>anatomy</td>\n",
       "      <td>quadriceps femoris</td>\n",
       "      <td>UBERON</td>\n",
       "      <td>58254</td>\n",
       "      <td>105378952</td>\n",
       "      <td>gene/protein</td>\n",
       "      <td>KLF18</td>\n",
       "      <td>NCBI</td>\n",
       "    </tr>\n",
       "    <tr>\n",
       "      <th>8100495</th>\n",
       "      <td>anatomy_protein_absent</td>\n",
       "      <td>expression absent</td>\n",
       "      <td>63826</td>\n",
       "      <td>1379</td>\n",
       "      <td>anatomy</td>\n",
       "      <td>vastus lateralis</td>\n",
       "      <td>UBERON</td>\n",
       "      <td>58254</td>\n",
       "      <td>105378952</td>\n",
       "      <td>gene/protein</td>\n",
       "      <td>KLF18</td>\n",
       "      <td>NCBI</td>\n",
       "    </tr>\n",
       "    <tr>\n",
       "      <th>8100496</th>\n",
       "      <td>anatomy_protein_absent</td>\n",
       "      <td>expression absent</td>\n",
       "      <td>64523</td>\n",
       "      <td>2084</td>\n",
       "      <td>anatomy</td>\n",
       "      <td>heart left ventricle</td>\n",
       "      <td>UBERON</td>\n",
       "      <td>58254</td>\n",
       "      <td>105378952</td>\n",
       "      <td>gene/protein</td>\n",
       "      <td>KLF18</td>\n",
       "      <td>NCBI</td>\n",
       "    </tr>\n",
       "    <tr>\n",
       "      <th>8100497</th>\n",
       "      <td>anatomy_protein_absent</td>\n",
       "      <td>expression absent</td>\n",
       "      <td>67302</td>\n",
       "      <td>5384</td>\n",
       "      <td>anatomy</td>\n",
       "      <td>nasal cavity epithelium</td>\n",
       "      <td>UBERON</td>\n",
       "      <td>58254</td>\n",
       "      <td>105378952</td>\n",
       "      <td>gene/protein</td>\n",
       "      <td>KLF18</td>\n",
       "      <td>NCBI</td>\n",
       "    </tr>\n",
       "  </tbody>\n",
       "</table>\n",
       "<p>8100498 rows × 12 columns</p>\n",
       "</div>"
      ],
      "text/plain": [
       "                       relation   display_relation  x_index  x_id  \\\n",
       "0               protein_protein                ppi        0  9796   \n",
       "1               protein_protein                ppi        1  7918   \n",
       "2               protein_protein                ppi        2  8233   \n",
       "3               protein_protein                ppi        3  4899   \n",
       "4               protein_protein                ppi        4  5297   \n",
       "...                         ...                ...      ...   ...   \n",
       "8100493  anatomy_protein_absent  expression absent    66747  4720   \n",
       "8100494  anatomy_protein_absent  expression absent    63824  1377   \n",
       "8100495  anatomy_protein_absent  expression absent    63826  1379   \n",
       "8100496  anatomy_protein_absent  expression absent    64523  2084   \n",
       "8100497  anatomy_protein_absent  expression absent    67302  5384   \n",
       "\n",
       "               x_type                   x_name x_source  y_index       y_id  \\\n",
       "0        gene/protein                   PHYHIP     NCBI     8889      56992   \n",
       "1        gene/protein                   GPANK1     NCBI     2798       9240   \n",
       "2        gene/protein                    ZRSR2     NCBI     5646      23548   \n",
       "3        gene/protein                     NRF1     NCBI    11592      11253   \n",
       "4        gene/protein                    PI4KA     NCBI     2122       8601   \n",
       "...               ...                      ...      ...      ...        ...   \n",
       "8100493       anatomy        cerebellar vermis   UBERON     5259        140   \n",
       "8100494       anatomy       quadriceps femoris   UBERON    58254  105378952   \n",
       "8100495       anatomy         vastus lateralis   UBERON    58254  105378952   \n",
       "8100496       anatomy     heart left ventricle   UBERON    58254  105378952   \n",
       "8100497       anatomy  nasal cavity epithelium   UBERON    58254  105378952   \n",
       "\n",
       "               y_type  y_name y_source  \n",
       "0        gene/protein   KIF15     NCBI  \n",
       "1        gene/protein   PNMA1     NCBI  \n",
       "2        gene/protein   TTC33     NCBI  \n",
       "3        gene/protein  MAN1B1     NCBI  \n",
       "4        gene/protein   RGS20     NCBI  \n",
       "...               ...     ...      ...  \n",
       "8100493  gene/protein  ADORA3     NCBI  \n",
       "8100494  gene/protein   KLF18     NCBI  \n",
       "8100495  gene/protein   KLF18     NCBI  \n",
       "8100496  gene/protein   KLF18     NCBI  \n",
       "8100497  gene/protein   KLF18     NCBI  \n",
       "\n",
       "[8100498 rows x 12 columns]"
      ]
     },
     "execution_count": 6,
     "metadata": {},
     "output_type": "execute_result"
    }
   ],
   "source": [
    "primekg"
   ]
  },
  {
   "cell_type": "code",
   "execution_count": null,
   "id": "b0b2fb09-8036-45c2-a824-9fa34f934704",
   "metadata": {},
   "outputs": [],
   "source": []
  },
  {
   "cell_type": "markdown",
   "id": "6185b0a7-5396-4a12-8ff0-c2094d5af242",
   "metadata": {
    "jp-MarkdownHeadingCollapsed": true
   },
   "source": [
    "## create nodes dataframe and edges index"
   ]
  },
  {
   "cell_type": "code",
   "execution_count": 117,
   "id": "505e6627-0b38-4db1-8cdd-d80d1cf66291",
   "metadata": {},
   "outputs": [
    {
     "data": {
      "text/html": [
       "<div>\n",
       "<style scoped>\n",
       "    .dataframe tbody tr th:only-of-type {\n",
       "        vertical-align: middle;\n",
       "    }\n",
       "\n",
       "    .dataframe tbody tr th {\n",
       "        vertical-align: top;\n",
       "    }\n",
       "\n",
       "    .dataframe thead th {\n",
       "        text-align: right;\n",
       "    }\n",
       "</style>\n",
       "<table border=\"1\" class=\"dataframe\">\n",
       "  <thead>\n",
       "    <tr style=\"text-align: right;\">\n",
       "      <th></th>\n",
       "      <th>indx</th>\n",
       "      <th>name</th>\n",
       "      <th>type</th>\n",
       "    </tr>\n",
       "  </thead>\n",
       "  <tbody>\n",
       "    <tr>\n",
       "      <th>0</th>\n",
       "      <td>0</td>\n",
       "      <td>PHYHIP</td>\n",
       "      <td>gene/protein</td>\n",
       "    </tr>\n",
       "    <tr>\n",
       "      <th>1</th>\n",
       "      <td>1</td>\n",
       "      <td>GPANK1</td>\n",
       "      <td>gene/protein</td>\n",
       "    </tr>\n",
       "    <tr>\n",
       "      <th>2</th>\n",
       "      <td>2</td>\n",
       "      <td>ZRSR2</td>\n",
       "      <td>gene/protein</td>\n",
       "    </tr>\n",
       "    <tr>\n",
       "      <th>3</th>\n",
       "      <td>3</td>\n",
       "      <td>NRF1</td>\n",
       "      <td>gene/protein</td>\n",
       "    </tr>\n",
       "    <tr>\n",
       "      <th>4</th>\n",
       "      <td>4</td>\n",
       "      <td>PI4KA</td>\n",
       "      <td>gene/protein</td>\n",
       "    </tr>\n",
       "    <tr>\n",
       "      <th>...</th>\n",
       "      <td>...</td>\n",
       "      <td>...</td>\n",
       "      <td>...</td>\n",
       "    </tr>\n",
       "    <tr>\n",
       "      <th>129370</th>\n",
       "      <td>129370</td>\n",
       "      <td>Ion transport by P-type ATPases</td>\n",
       "      <td>pathway</td>\n",
       "    </tr>\n",
       "    <tr>\n",
       "      <th>129371</th>\n",
       "      <td>129371</td>\n",
       "      <td>Inhibition  of voltage gated Ca2+ channels via...</td>\n",
       "      <td>pathway</td>\n",
       "    </tr>\n",
       "    <tr>\n",
       "      <th>129372</th>\n",
       "      <td>129372</td>\n",
       "      <td>anatomical entity</td>\n",
       "      <td>anatomy</td>\n",
       "    </tr>\n",
       "    <tr>\n",
       "      <th>129373</th>\n",
       "      <td>129373</td>\n",
       "      <td>multi-cellular organism</td>\n",
       "      <td>anatomy</td>\n",
       "    </tr>\n",
       "    <tr>\n",
       "      <th>129374</th>\n",
       "      <td>129374</td>\n",
       "      <td>female gonad</td>\n",
       "      <td>anatomy</td>\n",
       "    </tr>\n",
       "  </tbody>\n",
       "</table>\n",
       "<p>129375 rows × 3 columns</p>\n",
       "</div>"
      ],
      "text/plain": [
       "          indx                                               name  \\\n",
       "0            0                                             PHYHIP   \n",
       "1            1                                             GPANK1   \n",
       "2            2                                              ZRSR2   \n",
       "3            3                                               NRF1   \n",
       "4            4                                              PI4KA   \n",
       "...        ...                                                ...   \n",
       "129370  129370                    Ion transport by P-type ATPases   \n",
       "129371  129371  Inhibition  of voltage gated Ca2+ channels via...   \n",
       "129372  129372                                  anatomical entity   \n",
       "129373  129373                            multi-cellular organism   \n",
       "129374  129374                                       female gonad   \n",
       "\n",
       "                type  \n",
       "0       gene/protein  \n",
       "1       gene/protein  \n",
       "2       gene/protein  \n",
       "3       gene/protein  \n",
       "4       gene/protein  \n",
       "...              ...  \n",
       "129370       pathway  \n",
       "129371       pathway  \n",
       "129372       anatomy  \n",
       "129373       anatomy  \n",
       "129374       anatomy  \n",
       "\n",
       "[129375 rows x 3 columns]"
      ]
     },
     "execution_count": 117,
     "metadata": {},
     "output_type": "execute_result"
    }
   ],
   "source": [
    "nodes1 = primekg[[\"x_index\", \"x_name\", \"x_type\"]].rename(columns={\"x_index\":\"indx\",\"x_name\":\"name\",\"x_type\":\"type\"})\n",
    "nodes2 = primekg[[\"y_index\", \"y_name\", \"y_type\"]].rename(columns={\"y_index\":\"indx\",\"y_name\":\"name\",\"y_type\":\"type\"})\n",
    "nodes = pd.concat([nodes1,nodes2]).drop_duplicates().reset_index(drop=True)\n",
    "nodes = nodes.sort_values(by=\"indx\").reset_index(drop=True)\n",
    "nodes"
   ]
  },
  {
   "cell_type": "code",
   "execution_count": 118,
   "id": "a28d72cb-4ebd-4ba8-88b1-d0fbd113ae52",
   "metadata": {},
   "outputs": [],
   "source": [
    "if not np.all(nodes.index == nodes[\"indx\"]):\n",
    "    raise IOError(\"error\")"
   ]
  },
  {
   "cell_type": "code",
   "execution_count": null,
   "id": "222617a6-512e-4df9-b946-979961567eff",
   "metadata": {},
   "outputs": [],
   "source": [
    "nodes.drop(columns=\"indx\", inplace=True)"
   ]
  },
  {
   "cell_type": "code",
   "execution_count": null,
   "id": "678c890c-b26d-4127-a298-de058a68edd2",
   "metadata": {},
   "outputs": [],
   "source": []
  },
  {
   "cell_type": "code",
   "execution_count": 8,
   "id": "ad253915-cd80-4f83-9a2c-62a7aafc037b",
   "metadata": {},
   "outputs": [
    {
     "data": {
      "text/plain": [
       "(8100498, 2)"
      ]
     },
     "execution_count": 8,
     "metadata": {},
     "output_type": "execute_result"
    }
   ],
   "source": [
    "edges = primekg[[\"x_index\",\"y_index\"]].values\n",
    "edges.shape"
   ]
  },
  {
   "cell_type": "code",
   "execution_count": null,
   "id": "d39eed83-9577-4c72-8488-d976e1c0a2f8",
   "metadata": {},
   "outputs": [],
   "source": []
  },
  {
   "cell_type": "code",
   "execution_count": 9,
   "id": "a43514b0-d625-4b9a-a6bc-49b36f741dd4",
   "metadata": {},
   "outputs": [
    {
     "data": {
      "text/plain": [
       "0.015971240286708297"
      ]
     },
     "execution_count": 9,
     "metadata": {},
     "output_type": "execute_result"
    }
   ],
   "source": [
    "len(nodes)/len(edges)"
   ]
  },
  {
   "cell_type": "code",
   "execution_count": null,
   "id": "2d10c4e5-6d43-4a65-9d43-df34431a5be5",
   "metadata": {},
   "outputs": [],
   "source": []
  },
  {
   "cell_type": "markdown",
   "id": "a568a9aa-e736-4512-847d-43d8e6dbe62c",
   "metadata": {},
   "source": [
    "## convert to text and transform to embedding"
   ]
  },
  {
   "cell_type": "markdown",
   "id": "e59f07a0-4089-48b4-a2fa-82372f6dc574",
   "metadata": {
    "jp-MarkdownHeadingCollapsed": true
   },
   "source": [
    "### enrichment (textual representation)"
   ]
  },
  {
   "cell_type": "code",
   "execution_count": 10,
   "id": "3b1a4c3d-6144-45a8-896c-96e7f09f489e",
   "metadata": {},
   "outputs": [
    {
     "name": "stderr",
     "output_type": "stream",
     "text": [
      "100%|█████████████████████████████████████████████████████| 129375/129375 [00:08<00:00, 14763.23it/s]"
     ]
    },
    {
     "name": "stdout",
     "output_type": "stream",
     "text": [
      "CPU times: user 8.73 s, sys: 87.9 ms, total: 8.82 s\n",
      "Wall time: 8.86 s\n"
     ]
    },
    {
     "name": "stderr",
     "output_type": "stream",
     "text": [
      "\n"
     ]
    }
   ],
   "source": [
    "%%time\n",
    "enriched_nodes = [\"{} belongs to {} category.\".format(n[\"name\"],n[\"type\"]) for i,n in tqdm(nodes.iterrows(), total=len(nodes))]"
   ]
  },
  {
   "cell_type": "code",
   "execution_count": 11,
   "id": "b4736464-5be8-434d-8832-e8ae1d494acb",
   "metadata": {},
   "outputs": [],
   "source": [
    "# apply to dataframe\n",
    "# nodes[\"text\"] = enriched_nodes\n",
    "# nodes"
   ]
  },
  {
   "cell_type": "code",
   "execution_count": null,
   "id": "b68a1e0d-e643-4c22-b817-e9d1a9dbde61",
   "metadata": {},
   "outputs": [],
   "source": []
  },
  {
   "cell_type": "code",
   "execution_count": 12,
   "id": "80ce7ed6-988f-4d68-8d94-d0ab8f77d79e",
   "metadata": {},
   "outputs": [
    {
     "name": "stderr",
     "output_type": "stream",
     "text": [
      "100%|███████████████████████████████████████████████████| 8100498/8100498 [09:57<00:00, 13556.82it/s]"
     ]
    },
    {
     "name": "stdout",
     "output_type": "stream",
     "text": [
      "CPU times: user 9min 55s, sys: 5.49 s, total: 10min\n",
      "Wall time: 9min 58s\n"
     ]
    },
    {
     "name": "stderr",
     "output_type": "stream",
     "text": [
      "\n"
     ]
    }
   ],
   "source": [
    "%%time\n",
    "enriched_edges = [\"{} ({}) is connected via {} to {} ({}).\".format(e[\"x_name\"],e[\"x_type\"],e[\"display_relation\"],e[\"y_name\"],e[\"y_type\"]) for i,e in tqdm(primekg.iterrows(), total=len(primekg))]"
   ]
  },
  {
   "cell_type": "code",
   "execution_count": null,
   "id": "d3fb974f-dba9-4e61-b215-eab685030c19",
   "metadata": {},
   "outputs": [],
   "source": []
  },
  {
   "cell_type": "markdown",
   "id": "e641f783-434e-4667-a1ca-a275818f29dd",
   "metadata": {},
   "source": [
    "### embedding"
   ]
  },
  {
   "cell_type": "markdown",
   "id": "22298aa5-264d-4dfa-a5ee-d303f26744de",
   "metadata": {
    "jp-MarkdownHeadingCollapsed": true
   },
   "source": [
    "#### transformer model"
   ]
  },
  {
   "cell_type": "code",
   "execution_count": 13,
   "id": "7b7db7c4-db6c-47c1-a3d9-2c7c0b3ce1d5",
   "metadata": {},
   "outputs": [],
   "source": [
    "batch_size = 10 # for embedding"
   ]
  },
  {
   "cell_type": "code",
   "execution_count": 14,
   "id": "72be6f5d-b4c7-40e4-a6fa-ca29f9485850",
   "metadata": {},
   "outputs": [
    {
     "name": "stderr",
     "output_type": "stream",
     "text": [
      "/home/pascal/python_virtual_environments/kg/lib/python3.8/site-packages/sentence_transformers/cross_encoder/CrossEncoder.py:13: TqdmExperimentalWarning: Using `tqdm.autonotebook.tqdm` in notebook mode. Use `tqdm.tqdm` instead to force console mode (e.g. in jupyter console)\n",
      "  from tqdm.autonotebook import tqdm, trange\n"
     ]
    }
   ],
   "source": [
    "from sentence_transformers import SentenceTransformer"
   ]
  },
  {
   "cell_type": "code",
   "execution_count": 15,
   "id": "f6361390-d56c-4fa1-88c3-17e9e01b29f8",
   "metadata": {},
   "outputs": [],
   "source": [
    "model = SentenceTransformer(\"all-MiniLM-L6-v2\")"
   ]
  },
  {
   "cell_type": "markdown",
   "id": "7937a815-6884-4c6a-9d85-9729f4e14bdf",
   "metadata": {},
   "source": [
    "#### apply embedding"
   ]
  },
  {
   "cell_type": "markdown",
   "id": "3db16591-d82e-45ef-a30e-a39140394c24",
   "metadata": {},
   "source": [
    "##### nodes"
   ]
  },
  {
   "cell_type": "code",
   "execution_count": null,
   "id": "466ebf36-fa98-4259-b9d1-e0737d4c77ff",
   "metadata": {},
   "outputs": [],
   "source": [
    "%%time\n",
    "embeddings_nodes = []\n",
    "#for i in tqdm(range(0,len(nodes),batch_size)):\n",
    "#sentences = nodes.iloc[i:i+batch_size][\"text\"].values.tolist() # enriched_nodes\n",
    "for i in tqdm(range(0,len(enriched_nodes),batch_size)):\n",
    "    sentences = enriched_nodes[i:i+batch_size]\n",
    "    embeddings_batch = model.encode(sentences)\n",
    "    embeddings_nodes.extend(embeddings_batch)\n",
    "\n",
    "len(embeddings_nodes)"
   ]
  },
  {
   "cell_type": "code",
   "execution_count": null,
   "id": "79b23def-f54b-46d8-87b3-12c912643220",
   "metadata": {},
   "outputs": [],
   "source": [
    "%%time\n",
    "nodes[\"embedding\"] = embeddings_nodes\n",
    "nodes.to_parquet(\"embeddings_nodes.parquet\")"
   ]
  },
  {
   "cell_type": "code",
   "execution_count": 25,
   "id": "b725f086-bfd7-422b-8399-a6c1bc6a0e2c",
   "metadata": {},
   "outputs": [
    {
     "data": {
      "text/plain": [
       "(129375, 384)"
      ]
     },
     "execution_count": 25,
     "metadata": {},
     "output_type": "execute_result"
    }
   ],
   "source": [
    "embeddings_nodes = np.array(embeddings_nodes)\n",
    "embeddings_nodes.shape"
   ]
  },
  {
   "cell_type": "markdown",
   "id": "c1ee8ddc-e4e3-44a0-89ad-814862d8308e",
   "metadata": {
    "jp-MarkdownHeadingCollapsed": true
   },
   "source": [
    "##### edges"
   ]
  },
  {
   "cell_type": "code",
   "execution_count": null,
   "id": "40120a3e-a7ba-4fcc-b49b-0d0e1719cf00",
   "metadata": {},
   "outputs": [],
   "source": [
    "%%time\n",
    "embeddings_edges = []\n",
    "for i in tqdm(range(0,len(enriched_edges),batch_size)):\n",
    "    sentences = enriched_edges[i:i+batch_size]\n",
    "    embeddings_batch = model.encode(sentences)\n",
    "    embeddings_edges.extend(embeddings_batch)\n",
    "\n",
    "len(embeddings_edges)"
   ]
  },
  {
   "cell_type": "code",
   "execution_count": null,
   "id": "9dd9649d-1d30-4234-9dfb-2630fc9b18e9",
   "metadata": {},
   "outputs": [],
   "source": [
    "%%time\n",
    "primekg[\"embedding\"] = embeddings_edges\n",
    "primekg.to_parquet(\"embeddings_edges.parquet\")"
   ]
  },
  {
   "cell_type": "code",
   "execution_count": null,
   "id": "f42f97bb-9206-488c-9e2b-448550c474dc",
   "metadata": {},
   "outputs": [],
   "source": [
    "embeddings_edges = np.array(embeddings_edges)\n",
    "embeddings_edges.shape"
   ]
  },
  {
   "cell_type": "code",
   "execution_count": null,
   "id": "d7b121ab-1ec9-4167-8d1b-a574614c2f63",
   "metadata": {},
   "outputs": [],
   "source": []
  },
  {
   "cell_type": "code",
   "execution_count": null,
   "id": "9b292b31-c550-497d-9e44-02be39121e2b",
   "metadata": {},
   "outputs": [],
   "source": []
  },
  {
   "cell_type": "markdown",
   "id": "f1c86111-3c2e-47e9-b141-403c246678cc",
   "metadata": {},
   "source": [
    "## query knowledge graph"
   ]
  },
  {
   "cell_type": "markdown",
   "id": "e458b99c-ca0f-48e2-bd19-24de644f5334",
   "metadata": {
    "jp-MarkdownHeadingCollapsed": true
   },
   "source": [
    "### load data"
   ]
  },
  {
   "cell_type": "markdown",
   "id": "62cb940d-2dac-459f-b976-7b9f5e055a58",
   "metadata": {},
   "source": [
    "The `stark_qa` database contains query and answer pairs. The `answer_ids` are nodes in the `primekg` graph.\n",
    "Some queries have several possible answers (a list)."
   ]
  },
  {
   "cell_type": "code",
   "execution_count": 210,
   "id": "74a75bc7-d30e-4339-80c5-04c4f8f3aef4",
   "metadata": {},
   "outputs": [
    {
     "data": {
      "text/html": [
       "<div>\n",
       "<style scoped>\n",
       "    .dataframe tbody tr th:only-of-type {\n",
       "        vertical-align: middle;\n",
       "    }\n",
       "\n",
       "    .dataframe tbody tr th {\n",
       "        vertical-align: top;\n",
       "    }\n",
       "\n",
       "    .dataframe thead th {\n",
       "        text-align: right;\n",
       "    }\n",
       "</style>\n",
       "<table border=\"1\" class=\"dataframe\">\n",
       "  <thead>\n",
       "    <tr style=\"text-align: right;\">\n",
       "      <th></th>\n",
       "      <th>id</th>\n",
       "      <th>query</th>\n",
       "      <th>answer_ids</th>\n",
       "    </tr>\n",
       "  </thead>\n",
       "  <tbody>\n",
       "    <tr>\n",
       "      <th>0</th>\n",
       "      <td>10328</td>\n",
       "      <td>Which medications, designed to target genes or...</td>\n",
       "      <td>[18423]</td>\n",
       "    </tr>\n",
       "    <tr>\n",
       "      <th>1</th>\n",
       "      <td>11172</td>\n",
       "      <td>Identify pathways associated with the activati...</td>\n",
       "      <td>[62404]</td>\n",
       "    </tr>\n",
       "    <tr>\n",
       "      <th>2</th>\n",
       "      <td>2260</td>\n",
       "      <td>I'm looking for tablet or capsule medications ...</td>\n",
       "      <td>[18967]</td>\n",
       "    </tr>\n",
       "    <tr>\n",
       "      <th>3</th>\n",
       "      <td>2304</td>\n",
       "      <td>Can you identify genes and proteins associated...</td>\n",
       "      <td>[1636]</td>\n",
       "    </tr>\n",
       "    <tr>\n",
       "      <th>4</th>\n",
       "      <td>11016</td>\n",
       "      <td>Which medication acts by engaging with genes o...</td>\n",
       "      <td>[16589, 16590, 16591, 16592, 14801, 16595, 14717]</td>\n",
       "    </tr>\n",
       "    <tr>\n",
       "      <th>...</th>\n",
       "      <td>...</td>\n",
       "      <td>...</td>\n",
       "      <td>...</td>\n",
       "    </tr>\n",
       "    <tr>\n",
       "      <th>11199</th>\n",
       "      <td>8752</td>\n",
       "      <td>Find health conditions linked to diacylglycero...</td>\n",
       "      <td>[33575]</td>\n",
       "    </tr>\n",
       "    <tr>\n",
       "      <th>11200</th>\n",
       "      <td>9974</td>\n",
       "      <td>What are the observed effects or phenotypes as...</td>\n",
       "      <td>[94246, 33738, 94374, 93734]</td>\n",
       "    </tr>\n",
       "    <tr>\n",
       "      <th>11201</th>\n",
       "      <td>8636</td>\n",
       "      <td>What are the observed effects or phenotypes as...</td>\n",
       "      <td>[23000, 23091, 25269]</td>\n",
       "    </tr>\n",
       "    <tr>\n",
       "      <th>11202</th>\n",
       "      <td>9810</td>\n",
       "      <td>Identify genes or proteins that interact with ...</td>\n",
       "      <td>[5720, 4550]</td>\n",
       "    </tr>\n",
       "    <tr>\n",
       "      <th>11203</th>\n",
       "      <td>8882</td>\n",
       "      <td>Identify a gene or protein that interacts with...</td>\n",
       "      <td>[611]</td>\n",
       "    </tr>\n",
       "  </tbody>\n",
       "</table>\n",
       "<p>11204 rows × 3 columns</p>\n",
       "</div>"
      ],
      "text/plain": [
       "          id                                              query  \\\n",
       "0      10328  Which medications, designed to target genes or...   \n",
       "1      11172  Identify pathways associated with the activati...   \n",
       "2       2260  I'm looking for tablet or capsule medications ...   \n",
       "3       2304  Can you identify genes and proteins associated...   \n",
       "4      11016  Which medication acts by engaging with genes o...   \n",
       "...      ...                                                ...   \n",
       "11199   8752  Find health conditions linked to diacylglycero...   \n",
       "11200   9974  What are the observed effects or phenotypes as...   \n",
       "11201   8636  What are the observed effects or phenotypes as...   \n",
       "11202   9810  Identify genes or proteins that interact with ...   \n",
       "11203   8882  Identify a gene or protein that interacts with...   \n",
       "\n",
       "                                              answer_ids  \n",
       "0                                                [18423]  \n",
       "1                                                [62404]  \n",
       "2                                                [18967]  \n",
       "3                                                 [1636]  \n",
       "4      [16589, 16590, 16591, 16592, 14801, 16595, 14717]  \n",
       "...                                                  ...  \n",
       "11199                                            [33575]  \n",
       "11200                       [94246, 33738, 94374, 93734]  \n",
       "11201                              [23000, 23091, 25269]  \n",
       "11202                                       [5720, 4550]  \n",
       "11203                                              [611]  \n",
       "\n",
       "[11204 rows x 3 columns]"
      ]
     },
     "execution_count": 210,
     "metadata": {},
     "output_type": "execute_result"
    }
   ],
   "source": [
    "# load qa database\n",
    "# stark_qa : (question,answer) pairs\n",
    "starkqa_df = pd.read_csv(\"stark_qa.csv\", converters={\"answer_ids\": lambda x: list(map(int,x.strip(\"[]\").split(\", \")))})\n",
    "starkqa_df"
   ]
  },
  {
   "cell_type": "code",
   "execution_count": null,
   "id": "3368cd48-e5ff-4186-87d0-54d2d94a4b96",
   "metadata": {},
   "outputs": [],
   "source": []
  },
  {
   "cell_type": "code",
   "execution_count": null,
   "id": "4bc9f4ff-cf04-4ac0-ae8e-9f779eafd2cd",
   "metadata": {},
   "outputs": [],
   "source": []
  },
  {
   "cell_type": "markdown",
   "id": "e2f3ea4e-4958-48e9-b675-017bfa7d9bcf",
   "metadata": {},
   "source": [
    "### Method 1: linear decomposition of query in QA pairs and interpolate the answer"
   ]
  },
  {
   "cell_type": "markdown",
   "id": "047cfcb0-6247-4455-bf16-4e0002812a76",
   "metadata": {},
   "source": [
    "- Get the embedding of all queries from the `stark_qa` database. Matrix: `embeddings_queries`.\n",
    "- For a custom query, project its embedding on `embeddings_queries`. The coefficients: `query_decomposed`.\n",
    "- Get the mean embedding for each `answer_ids` as nodes in the KG.\n",
    "- Interpolate the answer's embedding using the query decomposed coefficients.\n",
    "- Now that we have the answer's embedding, find the closest known answer in the nodes."
   ]
  },
  {
   "cell_type": "code",
   "execution_count": null,
   "id": "e3ad6b05-b551-4994-b462-7c58103d2484",
   "metadata": {},
   "outputs": [],
   "source": []
  },
  {
   "cell_type": "markdown",
   "id": "a4f7f36c-b6d7-45b1-89eb-452211eb2dfb",
   "metadata": {
    "jp-MarkdownHeadingCollapsed": true
   },
   "source": [
    "#### embed queries"
   ]
  },
  {
   "cell_type": "code",
   "execution_count": 435,
   "id": "9482e56c-29f2-43d6-9097-0770b776568a",
   "metadata": {},
   "outputs": [
    {
     "name": "stderr",
     "output_type": "stream",
     "text": [
      "100%|████████████████████████████████████████████████████████████| 1121/1121 [00:24<00:00, 45.93it/s]"
     ]
    },
    {
     "name": "stdout",
     "output_type": "stream",
     "text": [
      "CPU times: user 31.1 s, sys: 2.64 s, total: 33.7 s\n",
      "Wall time: 24.4 s\n"
     ]
    },
    {
     "name": "stderr",
     "output_type": "stream",
     "text": [
      "\n"
     ]
    },
    {
     "data": {
      "text/plain": [
       "11204"
      ]
     },
     "execution_count": 435,
     "metadata": {},
     "output_type": "execute_result"
    }
   ],
   "source": [
    "%%time\n",
    "embeddings_queries = []\n",
    "for i in tqdm(range(0,len(starkqa_df),batch_size)):\n",
    "    sentences = starkqa_df.iloc[i:i+batch_size][\"query\"].values.tolist()\n",
    "    embeddings_batch = model.encode(sentences)\n",
    "    embeddings_queries.extend(embeddings_batch)\n",
    "\n",
    "len(embeddings_queries)"
   ]
  },
  {
   "cell_type": "code",
   "execution_count": 436,
   "id": "8aab01e5-1fa6-4cc4-847f-2c3c28bdca7a",
   "metadata": {},
   "outputs": [
    {
     "data": {
      "text/plain": [
       "(11204, 384)"
      ]
     },
     "execution_count": 436,
     "metadata": {},
     "output_type": "execute_result"
    }
   ],
   "source": [
    "embeddings_queries = np.array(embeddings_queries)\n",
    "embeddings_queries.shape"
   ]
  },
  {
   "cell_type": "code",
   "execution_count": null,
   "id": "63a7553a-940d-4d3c-8381-c7a63fb1bfc9",
   "metadata": {},
   "outputs": [],
   "source": []
  },
  {
   "cell_type": "markdown",
   "id": "13b6decc-6130-46b4-a5ea-0e6a53c206cf",
   "metadata": {
    "jp-MarkdownHeadingCollapsed": true
   },
   "source": [
    "#### embed answers"
   ]
  },
  {
   "cell_type": "code",
   "execution_count": 437,
   "id": "ac4f5642-42b7-4ea9-940a-89b7e5fd2cfc",
   "metadata": {},
   "outputs": [
    {
     "data": {
      "text/plain": [
       "11204"
      ]
     },
     "execution_count": 437,
     "metadata": {},
     "output_type": "execute_result"
    }
   ],
   "source": [
    "answer_ids_list = list(starkqa_df[\"answer_ids\"].values)\n",
    "len(answer_ids_list)"
   ]
  },
  {
   "cell_type": "code",
   "execution_count": 438,
   "id": "2f149350-cb2a-4dcf-9767-68ec572824a1",
   "metadata": {},
   "outputs": [
    {
     "data": {
      "text/plain": [
       "(11204, 384)"
      ]
     },
     "execution_count": 438,
     "metadata": {},
     "output_type": "execute_result"
    }
   ],
   "source": [
    "# answers are nodes in primekg, get their embedding (in case there are several answers, get the mean)\n",
    "embedding_answers = np.array([np.mean(embeddings_nodes[answer_ids], axis=0) for answer_ids in answer_ids_list])\n",
    "embedding_answers.shape"
   ]
  },
  {
   "cell_type": "code",
   "execution_count": null,
   "id": "5f2e9ba8-d9e8-4ce9-9b28-ab9217329c03",
   "metadata": {},
   "outputs": [],
   "source": []
  },
  {
   "cell_type": "markdown",
   "id": "8366a597-186e-4289-9d52-f3247ea5dd39",
   "metadata": {
    "jp-MarkdownHeadingCollapsed": true
   },
   "source": [
    "#### decompose query"
   ]
  },
  {
   "cell_type": "code",
   "execution_count": 439,
   "id": "61f72bd7-ccb3-418a-858a-60dc7a200360",
   "metadata": {},
   "outputs": [
    {
     "name": "stdout",
     "output_type": "stream",
     "text": [
      "CPU times: user 10.6 s, sys: 5.66 s, total: 16.3 s\n",
      "Wall time: 1.15 s\n"
     ]
    },
    {
     "data": {
      "text/plain": [
       "(11204, 384)"
      ]
     },
     "execution_count": 439,
     "metadata": {},
     "output_type": "execute_result"
    }
   ],
   "source": [
    "%%time\n",
    "embeddings_queries_inv = np.linalg.pinv(embeddings_queries.T)\n",
    "embeddings_queries_inv.shape"
   ]
  },
  {
   "cell_type": "code",
   "execution_count": null,
   "id": "d1aa3972-0438-4f76-94ae-d679648d23a7",
   "metadata": {},
   "outputs": [],
   "source": []
  },
  {
   "cell_type": "code",
   "execution_count": 440,
   "id": "92a7d2ea-bddc-4997-b50d-a1bf9c6d64ef",
   "metadata": {},
   "outputs": [
    {
     "name": "stdout",
     "output_type": "stream",
     "text": [
      "Query: disease that affects heart and lung\n"
     ]
    }
   ],
   "source": [
    "# any query\n",
    "query = \"disease that affects heart and lung\"\n",
    "print(\"Query: {}\".format(query))"
   ]
  },
  {
   "cell_type": "code",
   "execution_count": 441,
   "id": "cc241dfe-7091-482c-89cf-0cd0f3b4354e",
   "metadata": {},
   "outputs": [
    {
     "data": {
      "text/plain": [
       "(384,)"
      ]
     },
     "execution_count": 441,
     "metadata": {},
     "output_type": "execute_result"
    }
   ],
   "source": [
    "# embed user query\n",
    "emb_query = model.encode(query)\n",
    "emb_query.shape"
   ]
  },
  {
   "cell_type": "code",
   "execution_count": 442,
   "id": "6f777c9c-ea9c-4ae4-a823-1dce8f5844e2",
   "metadata": {},
   "outputs": [
    {
     "data": {
      "text/plain": [
       "(11204,)"
      ]
     },
     "execution_count": 442,
     "metadata": {},
     "output_type": "execute_result"
    }
   ],
   "source": [
    "query_decomposed = np.dot(embeddings_queries_inv, emb_query)\n",
    "query_decomposed.shape"
   ]
  },
  {
   "cell_type": "code",
   "execution_count": null,
   "id": "b255abd1-a78b-4e65-943c-2797fa4dc9ca",
   "metadata": {},
   "outputs": [],
   "source": []
  },
  {
   "cell_type": "code",
   "execution_count": 443,
   "id": "67e83bea-b434-4dba-a1e0-2f2ad7e44e26",
   "metadata": {},
   "outputs": [],
   "source": [
    "# starkqa_df.iloc[np.argmax(query_decomposed)].values"
   ]
  },
  {
   "cell_type": "code",
   "execution_count": null,
   "id": "f0ee2703-2d64-4dec-adb4-dc9a3ab69fc9",
   "metadata": {},
   "outputs": [],
   "source": []
  },
  {
   "cell_type": "markdown",
   "id": "70528bf3-18f7-47f1-a25e-ce9850cd08b8",
   "metadata": {
    "jp-MarkdownHeadingCollapsed": true
   },
   "source": [
    "#### interpolate the answer embedding"
   ]
  },
  {
   "cell_type": "code",
   "execution_count": 444,
   "id": "a13a2596-5170-4b99-8d2e-3d21412d2ea0",
   "metadata": {},
   "outputs": [
    {
     "data": {
      "text/plain": [
       "(384,)"
      ]
     },
     "execution_count": 444,
     "metadata": {},
     "output_type": "execute_result"
    }
   ],
   "source": [
    "# linear combination: coefficients from query decomposition\n",
    "##query_answer = np.sum(query_decomposed * embedding_answers.T, axis=1)\n",
    "query_answer = np.dot(query_decomposed, embedding_answers)\n",
    "query_answer.shape"
   ]
  },
  {
   "cell_type": "code",
   "execution_count": null,
   "id": "123b27a8-0567-43c4-88bd-443750ad2f7a",
   "metadata": {},
   "outputs": [],
   "source": []
  },
  {
   "cell_type": "markdown",
   "id": "446fe3e6-a373-46cd-b053-8ec04d1159f2",
   "metadata": {},
   "source": [
    "#### finding the answer (by embedding comparision to find most similar node)"
   ]
  },
  {
   "cell_type": "code",
   "execution_count": 445,
   "id": "7d634be2-1cbe-4465-885d-1cff908bc311",
   "metadata": {},
   "outputs": [
    {
     "data": {
      "text/plain": [
       "array([0.9819188 , 1.0261418 , 1.051791  , ..., 0.9777353 , 0.98827606,\n",
       "       1.0451933 ], dtype=float32)"
      ]
     },
     "execution_count": 445,
     "metadata": {},
     "output_type": "execute_result"
    }
   ],
   "source": [
    "# Calculate cosine distances\n",
    "#~ from scipy.spatial.distance import cosine\n",
    "#~ distances = [cosine(query_answer, embeddings_node) for embeddings_node in embeddings_nodes]\n",
    "\n",
    "# euclidean distance\n",
    "distances = np.linalg.norm(query_answer - embeddings_nodes, axis=1)\n",
    "distances"
   ]
  },
  {
   "cell_type": "code",
   "execution_count": 446,
   "id": "3497d5a2-a91a-4e05-b051-c1a6d18b2084",
   "metadata": {},
   "outputs": [],
   "source": [
    "topk = 10"
   ]
  },
  {
   "cell_type": "code",
   "execution_count": 449,
   "id": "586e3e01-d6ea-4892-bae2-b156f12668ec",
   "metadata": {},
   "outputs": [
    {
     "name": "stdout",
     "output_type": "stream",
     "text": [
      "Query: disease that affects heart and lung\n"
     ]
    },
    {
     "data": {
      "text/html": [
       "<div>\n",
       "<style scoped>\n",
       "    .dataframe tbody tr th:only-of-type {\n",
       "        vertical-align: middle;\n",
       "    }\n",
       "\n",
       "    .dataframe tbody tr th {\n",
       "        vertical-align: top;\n",
       "    }\n",
       "\n",
       "    .dataframe thead th {\n",
       "        text-align: right;\n",
       "    }\n",
       "</style>\n",
       "<table border=\"1\" class=\"dataframe\">\n",
       "  <thead>\n",
       "    <tr style=\"text-align: right;\">\n",
       "      <th></th>\n",
       "      <th>name</th>\n",
       "      <th>type</th>\n",
       "      <th>distance</th>\n",
       "    </tr>\n",
       "  </thead>\n",
       "  <tbody>\n",
       "    <tr>\n",
       "      <th>35833</th>\n",
       "      <td>lung disease</td>\n",
       "      <td>disease</td>\n",
       "      <td>0.680520</td>\n",
       "    </tr>\n",
       "    <tr>\n",
       "      <th>35669</th>\n",
       "      <td>heart disease</td>\n",
       "      <td>disease</td>\n",
       "      <td>0.686365</td>\n",
       "    </tr>\n",
       "    <tr>\n",
       "      <th>37522</th>\n",
       "      <td>myocardial disorder</td>\n",
       "      <td>disease</td>\n",
       "      <td>0.696601</td>\n",
       "    </tr>\n",
       "    <tr>\n",
       "      <th>36441</th>\n",
       "      <td>pulmonary valve disease</td>\n",
       "      <td>disease</td>\n",
       "      <td>0.708517</td>\n",
       "    </tr>\n",
       "    <tr>\n",
       "      <th>35761</th>\n",
       "      <td>cardiovascular disease</td>\n",
       "      <td>disease</td>\n",
       "      <td>0.711896</td>\n",
       "    </tr>\n",
       "    <tr>\n",
       "      <th>36235</th>\n",
       "      <td>chronic pulmonary heart disease</td>\n",
       "      <td>disease</td>\n",
       "      <td>0.711911</td>\n",
       "    </tr>\n",
       "    <tr>\n",
       "      <th>98239</th>\n",
       "      <td>pulmonary hypertension owing to lung disease a...</td>\n",
       "      <td>disease</td>\n",
       "      <td>0.716086</td>\n",
       "    </tr>\n",
       "    <tr>\n",
       "      <th>36836</th>\n",
       "      <td>interstitial lung disease</td>\n",
       "      <td>disease</td>\n",
       "      <td>0.717850</td>\n",
       "    </tr>\n",
       "    <tr>\n",
       "      <th>38437</th>\n",
       "      <td>pulmonary hypertension</td>\n",
       "      <td>disease</td>\n",
       "      <td>0.718808</td>\n",
       "    </tr>\n",
       "    <tr>\n",
       "      <th>28308</th>\n",
       "      <td>heart, malformation of</td>\n",
       "      <td>disease</td>\n",
       "      <td>0.721493</td>\n",
       "    </tr>\n",
       "  </tbody>\n",
       "</table>\n",
       "</div>"
      ],
      "text/plain": [
       "                                                    name     type  distance\n",
       "35833                                       lung disease  disease  0.680520\n",
       "35669                                      heart disease  disease  0.686365\n",
       "37522                                myocardial disorder  disease  0.696601\n",
       "36441                            pulmonary valve disease  disease  0.708517\n",
       "35761                             cardiovascular disease  disease  0.711896\n",
       "36235                    chronic pulmonary heart disease  disease  0.711911\n",
       "98239  pulmonary hypertension owing to lung disease a...  disease  0.716086\n",
       "36836                          interstitial lung disease  disease  0.717850\n",
       "38437                             pulmonary hypertension  disease  0.718808\n",
       "28308                             heart, malformation of  disease  0.721493"
      ]
     },
     "execution_count": 449,
     "metadata": {},
     "output_type": "execute_result"
    }
   ],
   "source": [
    "print(\"Query: {}\".format(query))\n",
    "\n",
    "#nodes.iloc[np.argsort(distances)[:topk]]\n",
    "\n",
    "nodes_ = nodes.copy()\n",
    "nodes_[\"distance\"] = distances\n",
    "nodes_.sort_values(by=\"distance\").iloc[:topk]"
   ]
  },
  {
   "cell_type": "code",
   "execution_count": null,
   "id": "51c5836b-b1e9-4f8c-b45b-2929cfff71a9",
   "metadata": {},
   "outputs": [],
   "source": []
  },
  {
   "cell_type": "markdown",
   "id": "04970c0f-d310-4b3b-816f-03683ee6b8f7",
   "metadata": {
    "jp-MarkdownHeadingCollapsed": true
   },
   "source": [
    "#### interactive"
   ]
  },
  {
   "cell_type": "code",
   "execution_count": null,
   "id": "3e7a9ca1-268e-4274-a380-8fb42f2dc33e",
   "metadata": {},
   "outputs": [],
   "source": [
    "query = input(\"Query:\") # your custom query\n",
    "emb_query = model.encode(query) # embed user query\n",
    "query_decomposed = np.dot(embeddings_queries_inv, emb_query) # decompose embedding of user query\n",
    "query_answer = np.dot(query_decomposed, embedding_answers) # interpolate the answer embedding\n",
    "distances = np.linalg.norm(query_answer - embeddings_nodes, axis=1)\n",
    "# print answers\n",
    "#nodes.iloc[np.argsort(distances)[:topk]] \n",
    "\n",
    "nodes_ = nodes.copy()\n",
    "nodes_[\"distance\"] = distances\n",
    "nodes_.sort_values(by=\"distance\").iloc[:topk]"
   ]
  },
  {
   "cell_type": "code",
   "execution_count": null,
   "id": "9ce64b91-efcf-4cbc-888e-16fef578b0be",
   "metadata": {},
   "outputs": [],
   "source": []
  },
  {
   "cell_type": "code",
   "execution_count": null,
   "id": "e128320b-c43f-4fe8-8af9-c7dbbabc3df3",
   "metadata": {},
   "outputs": [],
   "source": []
  },
  {
   "cell_type": "markdown",
   "id": "36176d71-1785-4191-b392-0866df1bbf6c",
   "metadata": {
    "jp-MarkdownHeadingCollapsed": true
   },
   "source": [
    "#### Benchmark"
   ]
  },
  {
   "cell_type": "code",
   "execution_count": null,
   "id": "6849d4bb-23a5-42b7-b560-4c783f50cad5",
   "metadata": {},
   "outputs": [],
   "source": []
  },
  {
   "cell_type": "code",
   "execution_count": 418,
   "id": "ac615c04-c16e-4aac-bca1-d06f2563616f",
   "metadata": {},
   "outputs": [],
   "source": [
    "train_ratio = 0.75"
   ]
  },
  {
   "cell_type": "code",
   "execution_count": null,
   "id": "dd52ca67-ee48-41a5-ad97-52ee180161e1",
   "metadata": {},
   "outputs": [],
   "source": []
  },
  {
   "cell_type": "code",
   "execution_count": 419,
   "id": "2d8c2a74-6ed6-43f2-9aaa-a66c52eedcbc",
   "metadata": {},
   "outputs": [
    {
     "data": {
      "text/plain": [
       "(8403, 11204)"
      ]
     },
     "execution_count": 419,
     "metadata": {},
     "output_type": "execute_result"
    }
   ],
   "source": [
    "data_len = len(starkqa_df)\n",
    "train_len = int(data_len*train_ratio)\n",
    "train_len, data_len"
   ]
  },
  {
   "cell_type": "code",
   "execution_count": 420,
   "id": "211e9568-756a-47d9-a87b-2871ad47746d",
   "metadata": {},
   "outputs": [
    {
     "data": {
      "text/plain": [
       "2801"
      ]
     },
     "execution_count": 420,
     "metadata": {},
     "output_type": "execute_result"
    }
   ],
   "source": [
    "mask_train = random_mask(data_len,train_len)\n",
    "mask_test = ~mask_train\n",
    "sum(mask_test)"
   ]
  },
  {
   "cell_type": "code",
   "execution_count": 421,
   "id": "20c8c72a-7dbd-4fa3-9d36-c708b6275308",
   "metadata": {},
   "outputs": [
    {
     "name": "stdout",
     "output_type": "stream",
     "text": [
      "PrimeKG nodes: 8100498\n",
      "StarkQA dataset: 11204 QA pairs, train ratio: 0.75, train/test size: 8403/2801\n"
     ]
    }
   ],
   "source": [
    "txt1 = \"StarkQA dataset: {} QA pairs, train ratio: {:.2f}, train/test size: {}/{}\".format(data_len, train_ratio, sum(mask_train), sum(mask_test))\n",
    "txt2 = \"PrimeKG nodes: {}\".format(len(primekg))\n",
    "header_txt = \"{}\\n{}\".format(txt2,txt1)\n",
    "print(header_txt)"
   ]
  },
  {
   "cell_type": "code",
   "execution_count": null,
   "id": "a66c81f8-2d31-4039-9a22-cd2f45ae921d",
   "metadata": {},
   "outputs": [],
   "source": []
  },
  {
   "cell_type": "code",
   "execution_count": 422,
   "id": "628fc2b4-fd63-4ae0-bef0-cd46f793463a",
   "metadata": {},
   "outputs": [
    {
     "data": {
      "text/plain": [
       "((8403, 384), (8403, 384), (8403, 384))"
      ]
     },
     "execution_count": 422,
     "metadata": {},
     "output_type": "execute_result"
    }
   ],
   "source": [
    "# reduce full data to training data\n",
    "embeddings_queries_train = embeddings_queries[mask_train]\n",
    "embedding_answers_train = embedding_answers[mask_train]\n",
    "embeddings_queries_train_inv = np.linalg.pinv(embeddings_queries_train.T)\n",
    "\n",
    "embeddings_queries_train.shape, embedding_answers_train.shape, embeddings_queries_train_inv.shape"
   ]
  },
  {
   "cell_type": "code",
   "execution_count": 423,
   "id": "c5a59dd8-85f5-4f3b-9e1b-70b4bbc88f6f",
   "metadata": {},
   "outputs": [],
   "source": [
    "# use other data as test data"
   ]
  },
  {
   "cell_type": "code",
   "execution_count": 424,
   "id": "52dd641a-decf-4b66-b7d3-aca0b7e4ed58",
   "metadata": {},
   "outputs": [
    {
     "data": {
      "text/plain": [
       "(2801, 384)"
      ]
     },
     "execution_count": 424,
     "metadata": {},
     "output_type": "execute_result"
    }
   ],
   "source": [
    "embeddings_queries_test = embeddings_queries[mask_test] # these queries were not seen before\n",
    "embeddings_queries_test.shape"
   ]
  },
  {
   "cell_type": "code",
   "execution_count": 425,
   "id": "ad0d562a-e193-47d0-8679-8952d9d3315a",
   "metadata": {},
   "outputs": [
    {
     "data": {
      "text/plain": [
       "(2801, 8403)"
      ]
     },
     "execution_count": 425,
     "metadata": {},
     "output_type": "execute_result"
    }
   ],
   "source": [
    "# project test queries on training queries\n",
    "query_decomposed = np.dot(embeddings_queries_train_inv, embeddings_queries_test.T).T\n",
    "query_decomposed.shape # every query from test set has answer weights from nodes from train set"
   ]
  },
  {
   "cell_type": "code",
   "execution_count": 426,
   "id": "f94de3f2-e495-4a1c-9db4-43901856eef5",
   "metadata": {},
   "outputs": [
    {
     "data": {
      "text/plain": [
       "(2801, 384)"
      ]
     },
     "execution_count": 426,
     "metadata": {},
     "output_type": "execute_result"
    }
   ],
   "source": [
    "# linear combination: coefficients from query decomposition\n",
    "query_answer = np.dot(query_decomposed, embedding_answers_train)\n",
    "query_answer.shape # every answer from test query has its embedding"
   ]
  },
  {
   "cell_type": "code",
   "execution_count": 427,
   "id": "55b64187-b44b-4add-a0fc-111484d35775",
   "metadata": {},
   "outputs": [
    {
     "data": {
      "text/plain": [
       "(129375, 384)"
      ]
     },
     "execution_count": 427,
     "metadata": {},
     "output_type": "execute_result"
    }
   ],
   "source": [
    "# and every node has its embedding, since the nodes are possible answers, compare them with the query answer embedding\n",
    "embeddings_nodes.shape"
   ]
  },
  {
   "cell_type": "code",
   "execution_count": 428,
   "id": "4b361166-fff1-4a29-be56-039802fb7a5c",
   "metadata": {},
   "outputs": [
    {
     "name": "stderr",
     "output_type": "stream",
     "text": [
      "100%|████████████████████████████████████████████████████████████| 2801/2801 [09:06<00:00,  5.13it/s]\n"
     ]
    },
    {
     "data": {
      "text/plain": [
       "(2801, 129375)"
      ]
     },
     "execution_count": 428,
     "metadata": {},
     "output_type": "execute_result"
    }
   ],
   "source": [
    "distances = np.array([np.linalg.norm(query_answer_ - embeddings_nodes, axis=1) for query_answer_ in tqdm(query_answer)])\n",
    "distances.shape"
   ]
  },
  {
   "cell_type": "code",
   "execution_count": null,
   "id": "ea3947bd-5fcc-42b3-ad2c-525d287b25a3",
   "metadata": {},
   "outputs": [],
   "source": []
  },
  {
   "cell_type": "code",
   "execution_count": null,
   "id": "ab2bc35b-0000-4eeb-b301-4baeb4b06eb4",
   "metadata": {},
   "outputs": [],
   "source": []
  },
  {
   "cell_type": "code",
   "execution_count": 429,
   "id": "c4cdc20f-803c-4950-ae4f-0bba94ca20af",
   "metadata": {},
   "outputs": [
    {
     "data": {
      "text/plain": [
       "2801"
      ]
     },
     "execution_count": 429,
     "metadata": {},
     "output_type": "execute_result"
    }
   ],
   "source": [
    "answer_ids_list_test = list(np.array(answer_ids_list,dtype=object)[mask_test]) # true answers from test set\n",
    "len(answer_ids_list_test)"
   ]
  },
  {
   "cell_type": "code",
   "execution_count": null,
   "id": "8da1d244-db0c-451d-ae67-791c904b208f",
   "metadata": {},
   "outputs": [],
   "source": []
  },
  {
   "cell_type": "code",
   "execution_count": 430,
   "id": "68cb9572-be8f-4abf-bf92-8db1d015a8df",
   "metadata": {},
   "outputs": [],
   "source": [
    "# find where the answer was found at which position in rank distances"
   ]
  },
  {
   "cell_type": "code",
   "execution_count": 431,
   "id": "30a956d7-f095-4755-8bff-e1c3b6b95111",
   "metadata": {},
   "outputs": [
    {
     "name": "stderr",
     "output_type": "stream",
     "text": [
      "2801it [00:27, 103.53it/s]\n"
     ]
    }
   ],
   "source": [
    "order_ratio_mean_list = []\n",
    "\n",
    "for dist,aids in tqdm(zip(distances,answer_ids_list_test)):\n",
    "    #print(dist,aids)\n",
    "    dist_indxsort = np.argsort(dist)\n",
    "    order_ratio_list = []\n",
    "    for aid in aids:\n",
    "        #print(aid)\n",
    "        order_found = np.argwhere(dist_indxsort==aid)[0][0]\n",
    "        order_ratio = order_found / len(dist_indxsort) # quantile order\n",
    "        order_ratio_list.append(order_ratio)\n",
    "    order_ratio_mean = np.mean(order_ratio_list)\n",
    "    order_ratio_mean_list.append(order_ratio_mean)"
   ]
  },
  {
   "cell_type": "code",
   "execution_count": 432,
   "id": "f86d89e5-21dd-4a18-a759-4ea19d058b7d",
   "metadata": {},
   "outputs": [
    {
     "name": "stdout",
     "output_type": "stream",
     "text": [
      "mean: 0.045\n",
      "median: 0.017\n"
     ]
    }
   ],
   "source": [
    "o_mean, o_median = np.mean(order_ratio_mean_list), np.median(order_ratio_mean_list)\n",
    "print(\"mean: {:.3f}\".format(o_mean))\n",
    "print(\"median: {:.3f}\".format(o_median))"
   ]
  },
  {
   "cell_type": "code",
   "execution_count": null,
   "id": "1d31447d-933e-4e37-8088-e5faba0c5aef",
   "metadata": {},
   "outputs": [],
   "source": []
  },
  {
   "cell_type": "code",
   "execution_count": 433,
   "id": "9cedcbfe-5301-4460-bec1-77558a686d17",
   "metadata": {},
   "outputs": [
    {
     "data": {
      "image/png": "[encoded data removed]",
      "text/plain": [
       "<Figure size 640x480 with 1 Axes>"
      ]
     },
     "metadata": {},
     "output_type": "display_data"
    }
   ],
   "source": [
    "plt.hist(order_ratio_mean_list, range=(0,1), bins=50, alpha=.7)\n",
    "plt.axvline(x=o_mean, label=\"mean ({:.3f})\".format(o_mean), ls='dotted')\n",
    "plt.axvline(x=o_median, label=\"median ({:.3f})\".format(o_median), ls='dashed')\n",
    "plt.xlabel(\"quantile order of answer of test query\")\n",
    "plt.suptitle(\"Benchmark: performance of query knowledge graph based on \\n Method: linear decomposition of query in QA pairs and interpolate the answer embedding\", fontweight=\"bold\")\n",
    "plt.title(header_txt)\n",
    "plt.legend()\n",
    "plt.tight_layout()\n",
    "plt.show()"
   ]
  },
  {
   "cell_type": "code",
   "execution_count": null,
   "id": "3dff856a-190e-4af5-88d2-95f60bdd92ca",
   "metadata": {},
   "outputs": [],
   "source": []
  },
  {
   "cell_type": "code",
   "execution_count": null,
   "id": "059c57d6-88e8-488d-8bad-fc58665a92fd",
   "metadata": {},
   "outputs": [],
   "source": []
  },
  {
   "cell_type": "markdown",
   "id": "689b6c28-f8ea-46c3-a96d-137f760143b6",
   "metadata": {
    "jp-MarkdownHeadingCollapsed": true
   },
   "source": [
    "## Graph"
   ]
  },
  {
   "cell_type": "code",
   "execution_count": null,
   "id": "b614b972-7919-4916-a36f-d156d9f134aa",
   "metadata": {},
   "outputs": [],
   "source": []
  },
  {
   "cell_type": "code",
   "execution_count": null,
   "id": "98129388-b457-4b06-b70a-82bde91550ec",
   "metadata": {},
   "outputs": [],
   "source": []
  },
  {
   "cell_type": "code",
   "execution_count": null,
   "id": "2a4024b9-6b1c-4b87-92b4-fa7ccfa1ae5b",
   "metadata": {},
   "outputs": [],
   "source": [
    "primekg.groupby(by=[\"x_type\",\"y_type\"])[\"relation\"].value_counts()"
   ]
  },
  {
   "cell_type": "code",
   "execution_count": null,
   "id": "cc7cef46-bb35-4e51-9e32-c950f3a64b62",
   "metadata": {},
   "outputs": [],
   "source": []
  },
  {
   "cell_type": "code",
   "execution_count": null,
   "id": "02aad662-d695-4bf3-9341-98e98f74c75e",
   "metadata": {},
   "outputs": [],
   "source": [
    "import networkx as nx"
   ]
  },
  {
   "cell_type": "code",
   "execution_count": null,
   "id": "3e309b13-365a-4773-8f74-1da046a47ba4",
   "metadata": {},
   "outputs": [],
   "source": [
    "G = nx.from_pandas_edgelist(df=primekg, source='x_index', target='y_index', edge_attr='relation', create_using=nx.DiGraph)"
   ]
  },
  {
   "cell_type": "code",
   "execution_count": null,
   "id": "52a90f1a-989c-4857-bc85-430b45fac6ee",
   "metadata": {},
   "outputs": [],
   "source": [
    "len(G.nodes)"
   ]
  },
  {
   "cell_type": "code",
   "execution_count": null,
   "id": "85db32aa-6fa0-4214-acc4-7d0f32778b58",
   "metadata": {},
   "outputs": [],
   "source": [
    "len(G.edges)"
   ]
  },
  {
   "cell_type": "code",
   "execution_count": null,
   "id": "8b61a656-25d9-40b9-9506-ef7e88a19b3e",
   "metadata": {},
   "outputs": [],
   "source": []
  },
  {
   "cell_type": "code",
   "execution_count": 434,
   "id": "aac4323d-0079-4e8b-a804-2f909c2510bc",
   "metadata": {},
   "outputs": [],
   "source": [
    "# TODO: use graph to find target node, including similarity of query to nodes and edges"
   ]
  },
  {
   "cell_type": "code",
   "execution_count": null,
   "id": "23d73061-8ed7-4c2c-8534-6810dbb42f37",
   "metadata": {},
   "outputs": [],
   "source": []
  }
 ],
 "metadata": {
  "kernelspec": {
   "display_name": "kg",
   "language": "python",
   "name": "kg"
  },
  "language_info": {
   "codemirror_mode": {
    "name": "ipython",
    "version": 3
   },
   "file_extension": ".py",
   "mimetype": "text/x-python",
   "name": "python",
   "nbconvert_exporter": "python",
   "pygments_lexer": "ipython3",
   "version": "3.8.10"
  }
 },
 "nbformat": 4,
 "nbformat_minor": 5
}
